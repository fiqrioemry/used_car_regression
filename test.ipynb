{
 "cells": [
  {
   "cell_type": "code",
   "execution_count": null,
   "metadata": {},
   "outputs": [],
   "source": [
    "X = df.drop('Price', axis=1)\n",
    "y = df['Price']\n",
    "\n",
    "RANDOM_STATE = 2020\n",
    "\n",
    "X_train, X_test, y_train, y_test = train_test_split(\n",
    "    X,\n",
    "    y,\n",
    "    test_size = 0.2,\n",
    "    random_state = RANDOM_STATE\n",
    ")\n",
    "\n",
    "column_one_hot = ['Gear_Type']\n",
    "\n",
    "column_binary = ['Model', 'Region', 'Origin', 'Options','Type', 'Make']\n",
    "\n",
    "column_scaler = [col for col in numerical_cols if col != 'Price']\n",
    "\n",
    "preprocessor = ColumnTransformer(\n",
    "    [\n",
    "    ('onehot', OneHotEncoder(drop='first'), column_one_hot),\n",
    "    ('binary', ce.BinaryEncoder(), column_binary),\n",
    "    ('scaler', RobustScaler(), column_scaler)\n",
    "], remainder='passthrough'\n",
    ")\n",
    "\n",
    "preprocessor \n",
    "\n",
    "X_train_transformed = preprocessor.fit_transform(X_train)\n",
    "\n",
    "X_train_transformed_df = pd.DataFrame(X_train_transformed,columns=preprocessor.get_feature_names_out())\n",
    "\n",
    "\n",
    "X_train_linear_regression = sm.add_constant(X_train_transformed_df)\n",
    "\n",
    "result_ols = sm.OLS(y_train, X_train_linear_regression).fit()\n",
    "\n",
    "print(result_ols.summary())"
   ]
  },
  {
   "cell_type": "code",
   "execution_count": null,
   "metadata": {},
   "outputs": [],
   "source": []
  }
 ],
 "metadata": {
  "language_info": {
   "name": "python"
  }
 },
 "nbformat": 4,
 "nbformat_minor": 2
}
